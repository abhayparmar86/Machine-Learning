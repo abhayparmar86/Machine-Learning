{
  "nbformat": 4,
  "nbformat_minor": 0,
  "metadata": {
    "colab": {
      "provenance": []
    },
    "kernelspec": {
      "name": "python3",
      "display_name": "Python 3"
    },
    "language_info": {
      "name": "python"
    }
  },
  "cells": [
    {
      "cell_type": "code",
      "execution_count": 1,
      "metadata": {
        "colab": {
          "base_uri": "https://localhost:8080/"
        },
        "id": "ToERcOzSsG67",
        "outputId": "19093ad9-4555-4b41-bd26-54c4aaf5ecad"
      },
      "outputs": [
        {
          "output_type": "stream",
          "name": "stdout",
          "text": [
            "Parameter of Trained Perceptron:  [[2. 2.]] [-1.]\n",
            "Prediction of Trainning Set:  [-1  1  1  1]\n",
            "Accuracy:  100.0 %\n",
            "Parameter of Trained Perceptron:  [[2. 2.]] [-1.]\n",
            "Prediction of Trainning Set:  [-1  1  1  1]\n",
            "Accuracy:  75.0 %\n"
          ]
        }
      ],
      "source": [
        "from sklearn.linear_model import Perceptron\n",
        "\n",
        "# Trainning Set (OR)\n",
        "X=[[0,0],[0,1],[1,0],[1,1]]\n",
        "y=[-1,1,1,1]\n",
        "\n",
        "# Perceptron Trainning w/ fit method\n",
        "p=Perceptron()\n",
        "p.fit(X,y)\n",
        "\n",
        "print(\"Parameter of Trained Perceptron: \",p.coef_,p.intercept_)\n",
        "print(\"Prediction of Trainning Set: \",p.predict(X))\n",
        "print(\"Accuracy: \",p.score(X,y)*100,\"%\")\n",
        "\n",
        "# Testing Set (XOR)\n",
        "X=[[0,0],[0,1],[1,0],[1,1]]\n",
        "y=[-1,1,1,-1]\n",
        "\n",
        "print(\"Parameter of Trained Perceptron: \",p.coef_,p.intercept_)\n",
        "print(\"Prediction of Trainning Set: \",p.predict(X))\n",
        "print(\"Accuracy: \",p.score(X,y)*100,\"%\")"
      ]
    },
    {
      "cell_type": "code",
      "source": [
        "from sklearn.linear_model import Perceptron\n",
        "\n",
        "# Trainning Set (OR)\n",
        "X=[[0,0],[0,1],[1,0],[1,1]]\n",
        "y=[-1,-1,-1,1]\n",
        "\n",
        "# Perceptron Trainning w/ fit method\n",
        "p=Perceptron()\n",
        "p.fit(X,y)\n",
        "\n",
        "print(\"Parameter of Trained Perceptron: \",p.coef_,p.intercept_)\n",
        "print(\"Prediction of Trainning Set: \",p.predict(X))\n",
        "print(\"Accuracy: \",p.score(X,y)*100,\"%\")\n",
        "\n",
        "# Testing Set (XOR)\n",
        "X=[[0,0],[0,1],[1,0],[1,1]]\n",
        "y=[-1,1,1,-1]\n",
        "\n",
        "print(\"Parameter of Trained Perceptron: \",p.coef_,p.intercept_)\n",
        "print(\"Prediction of Trainning Set: \",p.predict(X))\n",
        "print(\"Accuracy: \",p.score(X,y)*100,\"%\")"
      ],
      "metadata": {
        "colab": {
          "base_uri": "https://localhost:8080/"
        },
        "id": "dWL54zl06c9s",
        "outputId": "bcb62649-dfa8-4851-9421-207869dd33a6"
      },
      "execution_count": null,
      "outputs": [
        {
          "output_type": "stream",
          "name": "stdout",
          "text": [
            "Parameter of Trained Perceptron:  [[2. 2.]] [-2.]\n",
            "Prediction of Trainning Set:  [-1 -1 -1  1]\n",
            "Accuracy:  100.0 %\n",
            "Parameter of Trained Perceptron:  [[2. 2.]] [-2.]\n",
            "Prediction of Trainning Set:  [-1 -1 -1  1]\n",
            "Accuracy:  25.0 %\n"
          ]
        }
      ]
    },
    {
      "cell_type": "code",
      "source": [
        "# Code 3-4\n",
        "# MLP w/ MNIST\n",
        "# Machine Learning and Deep Learning Course\n",
        "# Kent State University\n",
        "# Jungyoon Kim, Ph.D.\n",
        "# ######################################################\n",
        "from sklearn.datasets import fetch_openml\n",
        "from sklearn.neural_network import MLPClassifier\n",
        "import matplotlib.pyplot as plt\n",
        "import numpy as np\n",
        "\n",
        "# Read the MNIST dataset and split it into a training set and a test set.\n",
        "mnist_ds=fetch_openml('mnist_784')\n",
        "mnist_ds.data=mnist_ds.data/255.0\n",
        "x_train=mnist_ds.data[:50000]; x_test=mnist_ds.data[50000:]\n",
        "y_train=np.int16(mnist_ds.target[:50000]); y_test=np.int16(mnist_ds.target[50000:])\n",
        "\n",
        "# Training MLP Classifier Model\n",
        "mlpC=MLPClassifier(hidden_layer_sizes=(120),learning_rate_init=0.001,batch_size=512,max_iter=250,solver='adam',verbose=True)\n",
        "mlpC.fit(x_train,y_train)\n",
        "\n",
        "# Prediction with Test Set\n",
        "res=mlpC.predict(x_test)\n",
        "\n",
        "# Confusion Matrix\n",
        "confM=np.zeros((10,10),dtype=np.int16)\n",
        "for i in range(len(res)):\n",
        "    confM[res[i]][y_test[i]]+=1\n",
        "print(confM)\n",
        "\n",
        "# Calculating Accuracy\n",
        "no_correct=0\n",
        "for i in range(10):\n",
        "    no_correct+=confM[i][i]\n",
        "accuracy=no_correct/len(res)\n",
        "print(\"Accuracy for Test Set is \", accuracy*100, \"%.\")"
      ],
      "metadata": {
        "colab": {
          "base_uri": "https://localhost:8080/"
        },
        "id": "zqgSSVHysP3S",
        "outputId": "1d7a45c7-bb91-4988-b7db-58419e6d7991"
      },
      "execution_count": null,
      "outputs": [
        {
          "output_type": "stream",
          "name": "stdout",
          "text": [
            "Iteration 1, loss = 0.67292410\n",
            "Iteration 2, loss = 0.27797178\n",
            "Iteration 3, loss = 0.21852621\n",
            "Iteration 4, loss = 0.18186968\n",
            "Iteration 5, loss = 0.15584857\n",
            "Iteration 6, loss = 0.13637492\n",
            "Iteration 7, loss = 0.12132782\n",
            "Iteration 8, loss = 0.10980358\n",
            "Iteration 9, loss = 0.09865696\n",
            "Iteration 10, loss = 0.08993728\n",
            "Iteration 11, loss = 0.08171070\n",
            "Iteration 12, loss = 0.07528179\n",
            "Iteration 13, loss = 0.06926242\n",
            "Iteration 14, loss = 0.06322423\n",
            "Iteration 15, loss = 0.05798248\n",
            "Iteration 16, loss = 0.05434190\n",
            "Iteration 17, loss = 0.04975346\n",
            "Iteration 18, loss = 0.04565399\n",
            "Iteration 19, loss = 0.04202681\n",
            "Iteration 20, loss = 0.03959508\n",
            "Iteration 21, loss = 0.03687941\n",
            "Iteration 22, loss = 0.03385039\n",
            "Iteration 23, loss = 0.03129577\n",
            "Iteration 24, loss = 0.02945647\n",
            "Iteration 25, loss = 0.02697207\n",
            "Iteration 26, loss = 0.02488491\n",
            "Iteration 27, loss = 0.02327583\n",
            "Iteration 28, loss = 0.02201643\n",
            "Iteration 29, loss = 0.02082188\n",
            "Iteration 30, loss = 0.01855202\n",
            "Iteration 31, loss = 0.01716344\n",
            "Iteration 32, loss = 0.01608782\n",
            "Iteration 33, loss = 0.01470934\n",
            "Iteration 34, loss = 0.01383624\n",
            "Iteration 35, loss = 0.01280254\n",
            "Iteration 36, loss = 0.01180824\n",
            "Iteration 37, loss = 0.01147604\n",
            "Iteration 38, loss = 0.01046444\n",
            "Iteration 39, loss = 0.00951826\n",
            "Iteration 40, loss = 0.00891993\n",
            "Iteration 41, loss = 0.00837705\n",
            "Iteration 42, loss = 0.00764533\n",
            "Iteration 43, loss = 0.00703925\n",
            "Iteration 44, loss = 0.00658277\n",
            "Iteration 45, loss = 0.00607845\n",
            "Iteration 46, loss = 0.00577178\n",
            "Iteration 47, loss = 0.00547880\n",
            "Iteration 48, loss = 0.00521399\n",
            "Iteration 49, loss = 0.00477681\n",
            "Iteration 50, loss = 0.00429518\n",
            "Iteration 51, loss = 0.00400738\n",
            "Iteration 52, loss = 0.00387862\n",
            "Iteration 53, loss = 0.00368491\n",
            "Iteration 54, loss = 0.00339784\n",
            "Iteration 55, loss = 0.00318980\n",
            "Iteration 56, loss = 0.00292005\n",
            "Iteration 57, loss = 0.00277075\n",
            "Iteration 58, loss = 0.00267461\n",
            "Iteration 59, loss = 0.00252056\n",
            "Iteration 60, loss = 0.00240983\n",
            "Iteration 61, loss = 0.00226611\n",
            "Iteration 62, loss = 0.00205004\n",
            "Iteration 63, loss = 0.00196082\n",
            "Iteration 64, loss = 0.00183404\n",
            "Iteration 65, loss = 0.00180232\n",
            "Iteration 66, loss = 0.00165692\n",
            "Iteration 67, loss = 0.00155978\n",
            "Iteration 68, loss = 0.00150922\n",
            "Iteration 69, loss = 0.00143976\n",
            "Iteration 70, loss = 0.00135195\n",
            "Iteration 71, loss = 0.00127955\n",
            "Iteration 72, loss = 0.00120207\n",
            "Iteration 73, loss = 0.00118412\n",
            "Iteration 74, loss = 0.00111489\n",
            "Iteration 75, loss = 0.00108554\n",
            "Iteration 76, loss = 0.00103048\n",
            "Iteration 77, loss = 0.00099343\n",
            "Training loss did not improve more than tol=0.000100 for 10 consecutive epochs. Stopping.\n",
            "[[1944    0    4    0    1    4    7    2    6    5]\n",
            " [   0 2178    3    0    6    0    4    6    2    6]\n",
            " [   2    5 1966    8    5    1    4   10   10    0]\n",
            " [   1    1    7 1980    1   18    1    6   15   12]\n",
            " [   2    0    5    0 1915    1    6    5    5   10]\n",
            " [   2    2    1   21    1 1746    7    0   10    5]\n",
            " [   7    5    5    1    5   15 1890    0    4    1]\n",
            " [   3    3   15    4    2    3    1 2073    6   15]\n",
            " [   5    5   16   14    2   11    5    2 1913    7]\n",
            " [   5    0    0   12   27    8    0   14   12 1909]]\n",
            "Accuracy for Test Set is  97.57000000000001 %.\n"
          ]
        }
      ]
    },
    {
      "cell_type": "code",
      "source": [],
      "metadata": {
        "id": "gI6kVcRJP64F"
      },
      "execution_count": null,
      "outputs": []
    }
  ]
}